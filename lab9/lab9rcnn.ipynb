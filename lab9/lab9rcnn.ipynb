{
 "cells": [
  {
   "cell_type": "code",
   "execution_count": 1,
   "id": "c6c47258",
   "metadata": {},
   "outputs": [],
   "source": [
    "import numpy as np\n",
    "import requests\n",
    "import torch\n",
    "import torch.nn as nn\n",
    "import torch.nn.functional as F\n",
    "import torch.optim as optim\n",
    "from torch.utils.data import DataLoader\n",
    "import zipfile\n",
    "import io\n",
    "import matplotlib.pyplot as plt\n",
    "import imageio\n",
    "import pandas as pd\n",
    "import os\n",
    "\n",
    "from sklearn.linear_model import LogisticRegression\n",
    "from sklearn import svm\n",
    "\n",
    "%matplotlib inline\n"
   ]
  },
  {
   "cell_type": "markdown",
   "id": "80a51c17",
   "metadata": {},
   "source": [
    "## 1. Region Proposal"
   ]
  },
  {
   "cell_type": "code",
   "execution_count": 2,
   "id": "eee64280",
   "metadata": {},
   "outputs": [],
   "source": [
    "def propose_regions(image, patch_dim=12):\n",
    "    all_regions = []\n",
    "    region_pos = []\n",
    "    for i in range(image.shape[0]-patch_dim):\n",
    "        for j in range(image.shape[0]-patch_dim):\n",
    "            patch = image[i:(i+patch_dim), j:(j+patch_dim), :]\n",
    "            all_regions.append(patch)\n",
    "            region_pos.append((i, j))\n",
    "    return region_pos, all_regions"
   ]
  },
  {
   "cell_type": "code",
   "execution_count": 3,
   "id": "a2410c3d",
   "metadata": {},
   "outputs": [
    {
     "data": {
      "image/png": "[encoded data removed]",
      "text/plain": [
       "<Figure size 360x360 with 16 Axes>"
      ]
     },
     "metadata": {
      "needs_background": "light"
     },
     "output_type": "display_data"
    }
   ],
   "source": [
    "sample_img = imageio.imread(\"/classes/ece5470/lab/lab9/lab9data3r/im57.png\")\n",
    "region_pos, all_regions = propose_regions(sample_img)\n",
    "\n",
    "sample_indices = np.random.randint(len(all_regions), size=16)\n",
    "\n",
    "fig, axes = plt.subplots(4, 4, figsize=(5, 5))\n",
    "for i in range(len(sample_indices)):\n",
    "    row = i // 4\n",
    "    col = i % 4\n",
    "    axes[row][col].imshow(all_regions[sample_indices[i]])\n",
    "    axes[row][col].axis(\"off\")"
   ]
  },
  {
   "cell_type": "markdown",
   "id": "e58b6a0d",
   "metadata": {},
   "source": [
    "## 2. Feature Extractor"
   ]
  },
  {
   "cell_type": "code",
   "execution_count": 4,
   "id": "88ffee9b",
   "metadata": {},
   "outputs": [],
   "source": [
    "class ConvFeatureExtrator(nn.Module):\n",
    "    def __init__(self):\n",
    "        super(ConvFeatureExtrator, self).__init__()\n",
    "        self.conv = nn.Sequential(\n",
    "            nn.Conv2d(3, 16, kernel_size=3),\n",
    "            nn.BatchNorm2d(16),\n",
    "            nn.ReLU(),\n",
    "            nn.MaxPool2d(kernel_size=3, stride=1)\n",
    "            )\n",
    "        self.fc1 = nn.Linear(8*8*16, 512)\n",
    "        self.activation = F.relu\n",
    "        # the last FC layer exists the pretrained classifer\n",
    "        # for classifying if a 12x12 RGB patch contains a digit.\n",
    "        # The FC layer is removed in the feature extrator since\n",
    "        # we only want the encoding output from the convolutional\n",
    "        # layer as input features of a digit classifier\n",
    "        \n",
    "        # self.fc2 = nn.Linear(256, 1) \n",
    "        \n",
    "    def forward(self, x):\n",
    "        out = self.conv(x)\n",
    "        out = self.activation(out)\n",
    "        out = out.reshape(out.size(0), -1)\n",
    "        encoding = self.fc1(out)\n",
    "        # out = self.f2(encoding) # removed from the classfier\n",
    "        return encoding"
   ]
  },
  {
   "cell_type": "code",
   "execution_count": 5,
   "id": "9dfd20c7",
   "metadata": {},
   "outputs": [
    {
     "name": "stdout",
     "output_type": "stream",
     "text": [
      "Feature extractor's input shape torch.Size([1, 3, 12, 12])\n",
      "Feature extractor's output shape = torch.Size([1, 512])\n"
     ]
    }
   ],
   "source": [
    "feat_extractor = ConvFeatureExtrator()\n",
    "\n",
    "# load state_dict for the feature extractor\n",
    "pretrained_classifier_state_dict = torch.load(\"best_feature_extractor.pth\")\n",
    "feat_extractor.load_state_dict(pretrained_classifier_state_dict, strict=False)\n",
    "\n",
    "# check output dimension of the feature extractor\n",
    "feat_extractor.eval()\n",
    "with torch.no_grad():\n",
    "    sample_input = torch.unsqueeze(torch.FloatTensor(np.moveaxis(all_regions[42], -1, 0) / 255.0), axis=0)\n",
    "    print(\"Feature extractor's input shape\", sample_input.size())\n",
    "    sample_encoding = feat_extractor(sample_input)\n",
    "    print(\"Feature extractor's output shape =\", sample_encoding.shape)"
   ]
  },
  {
   "cell_type": "markdown",
   "id": "ab7769ae",
   "metadata": {},
   "source": [
    "## 3. Object classification"
   ]
  },
  {
   "cell_type": "code",
   "execution_count": 6,
   "id": "827842f5",
   "metadata": {},
   "outputs": [
    {
     "name": "stdout",
     "output_type": "stream",
     "text": [
      "Input shape = (1700, 512)\n",
      "Target shape = (1700,)\n"
     ]
    }
   ],
   "source": [
    "X = np.load(\"X_for_object_classification.npy\")\n",
    "y = np.load(\"y_for_object_classification.npy\")\n",
    "\n",
    "X_train = X[:1700, :]\n",
    "y_train = y[:1700]\n",
    "\n",
    "print(\"Input shape =\", X_train.shape)\n",
    "print(\"Target shape =\", y_train.shape)"
   ]
  },
  {
   "cell_type": "code",
   "execution_count": 7,
   "id": "f9adb7c8",
   "metadata": {},
   "outputs": [
    {
     "name": "stdout",
     "output_type": "stream",
     "text": [
      "Score on test samples for digit 0 = 0.55\n",
      "Score on test samples for digit 1 = 0.52\n",
      "Score on test samples for digit 2 = 0.57\n",
      "Score on test samples for digit 3 = 0.61\n",
      "Score on test samples for digit 4 = 0.52\n",
      "Score on test samples for digit 5 = 0.55\n",
      "Score on test samples for digit 6 = 0.57\n",
      "Score on test samples for digit 7 = 0.54\n",
      "Score on test samples for digit 8 = 0.54\n",
      "Score on test samples for digit 9 = 0.58\n"
     ]
    }
   ],
   "source": [
    "BACKGROUND_LABEL = 10\n",
    "NUM_FOREGROUND_LABELS = 10\n",
    "\n",
    "# train a binary classifier for each digit\n",
    "classifiers = []\n",
    "\n",
    "for digit_label in range(NUM_FOREGROUND_LABELS):\n",
    "    pos_y_indices = list((y_train == digit_label).nonzero()[0])\n",
    "    neg_y_indices = (y_train == BACKGROUND_LABEL).nonzero()[0]\n",
    "    \n",
    "    # match the number of positive (containing a digit) and negative examples (only background) for each digit\n",
    "    sample_neg_y_indices = list(np.random.choice(neg_y_indices, size=len(pos_y_indices)))\n",
    "    \n",
    "    combined_indices = np.asarray(pos_y_indices+sample_neg_y_indices)\n",
    "    np.random.shuffle(combined_indices)\n",
    "    \n",
    "    single_digit_X = X_train[combined_indices, :]\n",
    "    single_digit_y = (y_train[combined_indices] == digit_label).astype(int)\n",
    "    \n",
    "    clf = LogisticRegression(random_state=42, C=1e5).fit(single_digit_X, single_digit_y)\n",
    "    test_X = X[1700:, :]\n",
    "    test_y = (y[1700:] == digit_label).astype(int)\n",
    "\n",
    "    print(\"Score on test samples for digit\", digit_label, \"=\", clf.score(test_X, test_y))\n",
    "    classifiers.append(clf)"
   ]
  },
  {
   "cell_type": "markdown",
   "id": "24535d56",
   "metadata": {},
   "source": [
    "## RCNN - Putting everything together"
   ]
  },
  {
   "cell_type": "code",
   "execution_count": 8,
   "id": "451a90a8",
   "metadata": {},
   "outputs": [],
   "source": [
    "img_dir = \"/classes/ece5470/lab/lab9/lab9data3r\"\n",
    "labels_df = pd.read_csv(os.path.join(img_dir, \"labels.csv\"))\n",
    "img_labels = labels_df.iloc[:, 0].values\n",
    "targets = labels_df.iloc[:, 1].values\n",
    "\n",
    "all_test_img_labels = img_labels[:100]\n",
    "all_test_targets = targets[:100]"
   ]
  },
  {
   "cell_type": "code",
   "execution_count": null,
   "id": "f513b0c3",
   "metadata": {},
   "outputs": [
    {
     "name": "stdout",
     "output_type": "stream",
     "text": [
      "sample 1 / 100\n",
      "sample 11 / 100\n",
      "sample 21 / 100\n",
      "sample 31 / 100\n",
      "sample 41 / 100\n",
      "sample 51 / 100\n",
      "sample 61 / 100\n"
     ]
    }
   ],
   "source": [
    "all_pred_region_indices = []\n",
    "all_pred_labels = []\n",
    "\n",
    "acc = 0.0\n",
    "with torch.no_grad():\n",
    "    for i in range(len(all_test_targets)):\n",
    "        if i % 10 == 0:\n",
    "            print(\"sample\", i+1, \"/\", len(all_test_targets))\n",
    "        test_target = all_test_targets[i]\n",
    "        img_label = all_test_img_labels[i]\n",
    "        img_id = img_label.split(\".\")[0][2:]\n",
    "\n",
    "        input_img_label = \"im%s.png\" % img_id\n",
    "        input_img_path = os.path.join(img_dir, input_img_label)\n",
    "\n",
    "        input_img = np.asarray(imageio.imread(input_img_path))\n",
    "        input_img = input_img / 255.0\n",
    "\n",
    "        region_pos, all_regions = propose_regions(input_img)\n",
    "        all_region_feats = []\n",
    "        all_region_digit_probs = np.zeros((len(all_regions), NUM_FOREGROUND_LABELS))\n",
    "        for j in range(len(all_regions)):\n",
    "            region = torch.FloatTensor(np.expand_dims(np.moveaxis(all_regions[j], -1, 0), axis=0))\n",
    "            feat = feat_extractor(region).squeeze().numpy()\n",
    "            all_region_feats.append(feat)\n",
    "        \n",
    "        all_region_feats = np.asarray(all_region_feats)\n",
    "\n",
    "        for k in range(len(classifiers)):\n",
    "            classifier = classifiers[k]\n",
    "            probs = classifier.predict_proba(all_region_feats)\n",
    "            all_region_digit_probs[:, k] = probs[:, 1]\n",
    "\n",
    "        max_loc = np.where(all_region_digit_probs == np.max(all_region_digit_probs))\n",
    "        pred_region_idx = max_loc[0].item()\n",
    "        pred_label = max_loc[1].item()\n",
    "        \n",
    "        all_pred_region_indices.append(pred_region_idx)\n",
    "        all_pred_labels.append(pred_label)\n",
    "        acc = acc + (pred_label == test_target) / len(all_test_targets)\n",
    "    \n",
    "    "
   ]
  },
  {
   "cell_type": "code",
   "execution_count": null,
   "id": "48a13cf3",
   "metadata": {},
   "outputs": [],
   "source": [
    "print(\"Object classification accuracy = %.2f\" % (acc * 100))"
   ]
  },
  {
   "cell_type": "code",
   "execution_count": null,
   "id": "f503a504",
   "metadata": {},
   "outputs": [],
   "source": [
    "def visualize_pred(img, true_label, pred_region_pos, pred_label, patch_dim=12, boundary_color=[255, 255, 255]):\n",
    "    x, y = pred_region_pos\n",
    "    img[x, y:(y+patch_dim), :] = boundary_color\n",
    "    img[x:(x+patch_dim), y, :] = boundary_color\n",
    "    img[(x+patch_dim), y:(y+patch_dim), :] = boundary_color\n",
    "    img[x:(x+patch_dim), y+patch_dim, :] = boundary_color\n",
    "    \n",
    "    plt.imshow(img)\n",
    "    plt.title(\"True label = %d; Pred = %d\" % (true_label, pred_label))"
   ]
  },
  {
   "cell_type": "code",
   "execution_count": null,
   "id": "f04de4cd",
   "metadata": {},
   "outputs": [],
   "source": [
    "sample_index = np.random.choice(len(all_test_targets))\n",
    "pred_label = all_pred_labels[sample_index]\n",
    "sample_target = all_test_targets[sample_index]\n",
    "\n",
    "sample_img_label = all_test_img_labels[sample_index]\n",
    "img_id = sample_img_label.split(\".\")[0][2:]\n",
    "\n",
    "sample_img_label = \"im%s.png\" % img_id\n",
    "sample_img_path = os.path.join(img_dir, sample_img_label)\n",
    "\n",
    "sample_img = imageio.imread(sample_img_path)\n",
    "\n",
    "all_region_pos, all_regions = propose_regions(input_img)\n",
    "region_pos = all_region_pos[all_pred_region_indices[sample_index]]\n",
    "\n",
    "visualize_pred(sample_img, sample_target, region_pos, pred_label)\n"
   ]
  },
  {
   "cell_type": "code",
   "execution_count": null,
   "id": "46b4d847",
   "metadata": {},
   "outputs": [],
   "source": []
  }
 ],
 "metadata": {
  "kernelspec": {
   "display_name": "Python 3",
   "language": "python",
   "name": "python3"
  },
  "language_info": {
   "codemirror_mode": {
    "name": "ipython",
    "version": 3
   },
   "file_extension": ".py",
   "mimetype": "text/x-python",
   "name": "python",
   "nbconvert_exporter": "python",
   "pygments_lexer": "ipython3",
   "version": "3.7.9"
  }
 },
 "nbformat": 4,
 "nbformat_minor": 5
}
