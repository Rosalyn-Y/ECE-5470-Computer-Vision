{
 "cells": [
  {
   "cell_type": "code",
   "execution_count": 103,
   "id": "72dfe911-87cb-4a6d-aafa-95f93d2b3630",
   "metadata": {},
   "outputs": [],
   "source": [
    "!vrawtovx -t image.a | vdim -c of=image.vx"
   ]
  },
  {
   "cell_type": "code",
   "execution_count": 104,
   "id": "7682dfb5-6963-42e1-bb1e-1d489ffcc99c",
   "metadata": {},
   "outputs": [
    {
     "name": "stdout",
     "output_type": "stream",
     "text": [
      "      0   1   2   3   4   5   6   7   8   9\n",
      "  8   0   0   0   0   0   0   0   0   0   0\n",
      "  7   0 200   0   0   0   0   0   0   1   0\n",
      "  6   0   0   0   0   0   0   0   0   0   0\n",
      "  5   0   0   0   0   0   0   0   0   0   0\n",
      "  4  50  50  50  50 100 200 200 200   0   0\n",
      "  3   0   0   0   0 100   0   0   0   0   0\n",
      "  2   0   0   0   0 100   0   0   0   0   0\n",
      "  1   0   0   0   0 100   0   0   0   0   0\n",
      "  0   0   0   0   0   0   0   0   0   0   0\n"
     ]
    }
   ],
   "source": [
    "!vppr image.vx"
   ]
  },
  {
   "cell_type": "code",
   "execution_count": 105,
   "id": "5c780f39-ca08-40c4-93d7-7b15c0fcb036",
   "metadata": {},
   "outputs": [
    {
     "name": "stdout",
     "output_type": "stream",
     "text": [
      "[[  0   0   0   0   0   0   0   0   0   0]\n",
      " [  0 200   0   0   0   0   0   0   1   0]\n",
      " [  0   0   0   0   0   0   0   0   0   0]\n",
      " [  0   0   0   0   0   0   0   0   0   0]\n",
      " [ 50  50  50  50 100 200 200 200   0   0]\n",
      " [  0   0   0   0 100   0   0   0   0   0]\n",
      " [  0   0   0   0 100   0   0   0   0   0]\n",
      " [  0   0   0   0 100   0   0   0   0   0]\n",
      " [  0   0   0   0   0   0   0   0   0   0]]\n"
     ]
    }
   ],
   "source": [
    "import numpy as np\n",
    "from v4 import vx\n",
    "\n",
    "smallim = vx.Vx('image.vx')\n",
    "print (smallim.i)\n"
   ]
  },
  {
   "cell_type": "code",
   "execution_count": 106,
   "id": "249335e8-6359-46f9-b00a-f1f4f5126dde",
   "metadata": {},
   "outputs": [
    {
     "data": {
      "image/png": "[encoded data removed]",
      "text/plain": [
       "<Figure size 400x400 with 1 Axes>"
      ]
     },
     "metadata": {},
     "output_type": "display_data"
    },
    {
     "name": "stdout",
     "output_type": "stream",
     "text": [
      "small image display from a file\n",
      "<scaled size: (9 x 10) >\n"
     ]
    }
   ],
   "source": [
    "from v4 import vd\n",
    "vd.dispsvx ('image.vx', capt='small image display from a file')"
   ]
  },
  {
   "cell_type": "code",
   "execution_count": 107,
   "id": "e7263b04-3b96-49dd-9744-786bd94fc49d",
   "metadata": {},
   "outputs": [
    {
     "data": {
      "image/png": "[encoded data removed]",
      "text/plain": [
       "<Figure size 400x400 with 1 Axes>"
      ]
     },
     "metadata": {},
     "output_type": "display_data"
    },
    {
     "name": "stdout",
     "output_type": "stream",
     "text": [
      "mx\n",
      "<scaled size: (9 x 10) >\n"
     ]
    }
   ],
   "source": [
    "! vtempy if=image.vx of=image.mx\n",
    "vd.dispsvx ('image.mx', capt='mx')"
   ]
  },
  {
   "cell_type": "code",
   "execution_count": null,
   "id": "2528123c-1b7a-488b-8776-444718bcf286",
   "metadata": {},
   "outputs": [],
   "source": []
  },
  {
   "cell_type": "code",
   "execution_count": null,
   "id": "97caeb73-ba09-4333-8b95-8c88070f01ed",
   "metadata": {},
   "outputs": [],
   "source": []
  }
 ],
 "metadata": {
  "kernelspec": {
   "display_name": "Python 3",
   "language": "python",
   "name": "python3"
  },
  "language_info": {
   "codemirror_mode": {
    "name": "ipython",
    "version": 3
   },
   "file_extension": ".py",
   "mimetype": "text/x-python",
   "name": "python",
   "nbconvert_exporter": "python",
   "pygments_lexer": "ipython3",
   "version": "3.7.9"
  }
 },
 "nbformat": 4,
 "nbformat_minor": 5
}
